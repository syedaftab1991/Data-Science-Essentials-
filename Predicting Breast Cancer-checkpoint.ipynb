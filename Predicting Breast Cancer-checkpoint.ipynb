{
 "metadata": {
  "name": "",
  "signature": "sha256:ff8cb5636e41a5f00590f209d9a3305bd760e1aa171918bed539b649a612a9bc"
 },
 "nbformat": 3,
 "nbformat_minor": 0,
 "worksheets": [
  {
   "cells": [
    {
     "cell_type": "heading",
     "level": 1,
     "metadata": {},
     "source": [
      "\n",
      "Predicting Breast Cancer"
     ]
    },
    {
     "cell_type": "code",
     "collapsed": false,
     "input": [
      "import pandas as pd\n",
      "%pylab inline"
     ],
     "language": "python",
     "metadata": {},
     "outputs": [
      {
       "output_type": "stream",
       "stream": "stdout",
       "text": [
        "Populating the interactive namespace from numpy and matplotlib\n"
       ]
      }
     ],
     "prompt_number": 7
    },
    {
     "cell_type": "code",
     "collapsed": false,
     "input": [
      "#Uses the Random Forest machine learning model to arrive at the best predictive model for dentifying the malignant tumours in breast tissue"
     ],
     "language": "python",
     "metadata": {},
     "outputs": [],
     "prompt_number": 67
    },
    {
     "cell_type": "code",
     "collapsed": false,
     "input": [
      "from sklearn.ensemble import RandomForestRegressor\n",
      "from sklearn.metrics import roc_auc_score"
     ],
     "language": "python",
     "metadata": {},
     "outputs": [],
     "prompt_number": 68
    },
    {
     "cell_type": "code",
     "collapsed": false,
     "input": [
      "X = pd.read_csv(\"breast_cancer.csv\")\n",
      "X.rename(columns = {X.columns[0]:'not_use'}, inplace = True)\n",
      "X = X.drop(['not_use'],axis=1)"
     ],
     "language": "python",
     "metadata": {},
     "outputs": [],
     "prompt_number": 77
    },
    {
     "cell_type": "code",
     "collapsed": false,
     "input": [
      "## assiging my dependent variable \"malignant\" to y \n",
      "y = X.pop(\"malignant\")"
     ],
     "language": "python",
     "metadata": {},
     "outputs": [],
     "prompt_number": 78
    },
    {
     "cell_type": "code",
     "collapsed": false,
     "input": [
      "X.describe()"
     ],
     "language": "python",
     "metadata": {},
     "outputs": [
      {
       "html": [
        "<div style=\"max-height:1000px;max-width:1500px;overflow:auto;\">\n",
        "<table border=\"1\" class=\"dataframe\">\n",
        "  <thead>\n",
        "    <tr style=\"text-align: right;\">\n",
        "      <th></th>\n",
        "      <th>id number</th>\n",
        "      <th>clump_thickness</th>\n",
        "      <th>uniformity_of_cell_size</th>\n",
        "      <th>uniformity_of_cell_shape</th>\n",
        "      <th>marginal_adhesion</th>\n",
        "      <th>epithelial_cell_size</th>\n",
        "      <th>bare_nuclei</th>\n",
        "      <th>bland_chromatin</th>\n",
        "      <th>normal_nucleoli</th>\n",
        "      <th>mitoses</th>\n",
        "    </tr>\n",
        "  </thead>\n",
        "  <tbody>\n",
        "    <tr>\n",
        "      <th>count</th>\n",
        "      <td>      699.000000</td>\n",
        "      <td> 699.000000</td>\n",
        "      <td> 699.000000</td>\n",
        "      <td> 699.000000</td>\n",
        "      <td> 699.000000</td>\n",
        "      <td> 699.000000</td>\n",
        "      <td> 699.000000</td>\n",
        "      <td> 699.000000</td>\n",
        "      <td> 699.000000</td>\n",
        "      <td> 699.000000</td>\n",
        "    </tr>\n",
        "    <tr>\n",
        "      <th>mean</th>\n",
        "      <td>  1071704.098712</td>\n",
        "      <td>   4.417740</td>\n",
        "      <td>   3.134478</td>\n",
        "      <td>   3.207439</td>\n",
        "      <td>   2.806867</td>\n",
        "      <td>   3.216023</td>\n",
        "      <td>   3.440629</td>\n",
        "      <td>   3.437768</td>\n",
        "      <td>   2.866953</td>\n",
        "      <td>   1.589413</td>\n",
        "    </tr>\n",
        "    <tr>\n",
        "      <th>std</th>\n",
        "      <td>   617095.729819</td>\n",
        "      <td>   2.815741</td>\n",
        "      <td>   3.051459</td>\n",
        "      <td>   2.971913</td>\n",
        "      <td>   2.855379</td>\n",
        "      <td>   2.214300</td>\n",
        "      <td>   3.665507</td>\n",
        "      <td>   2.438364</td>\n",
        "      <td>   3.053634</td>\n",
        "      <td>   1.715078</td>\n",
        "    </tr>\n",
        "    <tr>\n",
        "      <th>min</th>\n",
        "      <td>    61634.000000</td>\n",
        "      <td>   1.000000</td>\n",
        "      <td>   1.000000</td>\n",
        "      <td>   1.000000</td>\n",
        "      <td>   1.000000</td>\n",
        "      <td>   1.000000</td>\n",
        "      <td>  -1.000000</td>\n",
        "      <td>   1.000000</td>\n",
        "      <td>   1.000000</td>\n",
        "      <td>   1.000000</td>\n",
        "    </tr>\n",
        "    <tr>\n",
        "      <th>25%</th>\n",
        "      <td>   870688.500000</td>\n",
        "      <td>   2.000000</td>\n",
        "      <td>   1.000000</td>\n",
        "      <td>   1.000000</td>\n",
        "      <td>   1.000000</td>\n",
        "      <td>   2.000000</td>\n",
        "      <td>   1.000000</td>\n",
        "      <td>   2.000000</td>\n",
        "      <td>   1.000000</td>\n",
        "      <td>   1.000000</td>\n",
        "    </tr>\n",
        "    <tr>\n",
        "      <th>50%</th>\n",
        "      <td>  1171710.000000</td>\n",
        "      <td>   4.000000</td>\n",
        "      <td>   1.000000</td>\n",
        "      <td>   1.000000</td>\n",
        "      <td>   1.000000</td>\n",
        "      <td>   2.000000</td>\n",
        "      <td>   1.000000</td>\n",
        "      <td>   3.000000</td>\n",
        "      <td>   1.000000</td>\n",
        "      <td>   1.000000</td>\n",
        "    </tr>\n",
        "    <tr>\n",
        "      <th>75%</th>\n",
        "      <td>  1238298.000000</td>\n",
        "      <td>   6.000000</td>\n",
        "      <td>   5.000000</td>\n",
        "      <td>   5.000000</td>\n",
        "      <td>   4.000000</td>\n",
        "      <td>   4.000000</td>\n",
        "      <td>   5.000000</td>\n",
        "      <td>   5.000000</td>\n",
        "      <td>   4.000000</td>\n",
        "      <td>   1.000000</td>\n",
        "    </tr>\n",
        "    <tr>\n",
        "      <th>max</th>\n",
        "      <td> 13454352.000000</td>\n",
        "      <td>  10.000000</td>\n",
        "      <td>  10.000000</td>\n",
        "      <td>  10.000000</td>\n",
        "      <td>  10.000000</td>\n",
        "      <td>  10.000000</td>\n",
        "      <td>  10.000000</td>\n",
        "      <td>  10.000000</td>\n",
        "      <td>  10.000000</td>\n",
        "      <td>  10.000000</td>\n",
        "    </tr>\n",
        "  </tbody>\n",
        "</table>\n",
        "</div>"
       ],
       "metadata": {},
       "output_type": "pyout",
       "prompt_number": 73,
       "text": [
        "             id number  clump_thickness  uniformity_of_cell_size  \\\n",
        "count       699.000000       699.000000               699.000000   \n",
        "mean    1071704.098712         4.417740                 3.134478   \n",
        "std      617095.729819         2.815741                 3.051459   \n",
        "min       61634.000000         1.000000                 1.000000   \n",
        "25%      870688.500000         2.000000                 1.000000   \n",
        "50%     1171710.000000         4.000000                 1.000000   \n",
        "75%     1238298.000000         6.000000                 5.000000   \n",
        "max    13454352.000000        10.000000                10.000000   \n",
        "\n",
        "       uniformity_of_cell_shape  marginal_adhesion  epithelial_cell_size  \\\n",
        "count                699.000000         699.000000            699.000000   \n",
        "mean                   3.207439           2.806867              3.216023   \n",
        "std                    2.971913           2.855379              2.214300   \n",
        "min                    1.000000           1.000000              1.000000   \n",
        "25%                    1.000000           1.000000              2.000000   \n",
        "50%                    1.000000           1.000000              2.000000   \n",
        "75%                    5.000000           4.000000              4.000000   \n",
        "max                   10.000000          10.000000             10.000000   \n",
        "\n",
        "       bare_nuclei  bland_chromatin  normal_nucleoli     mitoses  \n",
        "count   699.000000       699.000000       699.000000  699.000000  \n",
        "mean      3.440629         3.437768         2.866953    1.589413  \n",
        "std       3.665507         2.438364         3.053634    1.715078  \n",
        "min      -1.000000         1.000000         1.000000    1.000000  \n",
        "25%       1.000000         2.000000         1.000000    1.000000  \n",
        "50%       1.000000         3.000000         1.000000    1.000000  \n",
        "75%       5.000000         5.000000         4.000000    1.000000  \n",
        "max      10.000000        10.000000        10.000000   10.000000  "
       ]
      }
     ],
     "prompt_number": 73
    },
    {
     "cell_type": "code",
     "collapsed": false,
     "input": [
      "numeric_variables = list(X.dtypes[X.dtypes != \"object\"].index)\n",
      "X[numeric_variables].head()"
     ],
     "language": "python",
     "metadata": {},
     "outputs": [
      {
       "html": [
        "<div style=\"max-height:1000px;max-width:1500px;overflow:auto;\">\n",
        "<table border=\"1\" class=\"dataframe\">\n",
        "  <thead>\n",
        "    <tr style=\"text-align: right;\">\n",
        "      <th></th>\n",
        "      <th>id number</th>\n",
        "      <th>clump_thickness</th>\n",
        "      <th>uniformity_of_cell_size</th>\n",
        "      <th>uniformity_of_cell_shape</th>\n",
        "      <th>marginal_adhesion</th>\n",
        "      <th>epithelial_cell_size</th>\n",
        "      <th>bare_nuclei</th>\n",
        "      <th>bland_chromatin</th>\n",
        "      <th>normal_nucleoli</th>\n",
        "      <th>mitoses</th>\n",
        "    </tr>\n",
        "  </thead>\n",
        "  <tbody>\n",
        "    <tr>\n",
        "      <th>0</th>\n",
        "      <td> 1000025</td>\n",
        "      <td> 5</td>\n",
        "      <td> 1</td>\n",
        "      <td> 1</td>\n",
        "      <td> 1</td>\n",
        "      <td> 2</td>\n",
        "      <td>  1</td>\n",
        "      <td> 3</td>\n",
        "      <td> 1</td>\n",
        "      <td> 1</td>\n",
        "    </tr>\n",
        "    <tr>\n",
        "      <th>1</th>\n",
        "      <td> 1002945</td>\n",
        "      <td> 5</td>\n",
        "      <td> 4</td>\n",
        "      <td> 4</td>\n",
        "      <td> 5</td>\n",
        "      <td> 7</td>\n",
        "      <td> 10</td>\n",
        "      <td> 3</td>\n",
        "      <td> 2</td>\n",
        "      <td> 1</td>\n",
        "    </tr>\n",
        "    <tr>\n",
        "      <th>2</th>\n",
        "      <td> 1015425</td>\n",
        "      <td> 3</td>\n",
        "      <td> 1</td>\n",
        "      <td> 1</td>\n",
        "      <td> 1</td>\n",
        "      <td> 2</td>\n",
        "      <td>  2</td>\n",
        "      <td> 3</td>\n",
        "      <td> 1</td>\n",
        "      <td> 1</td>\n",
        "    </tr>\n",
        "    <tr>\n",
        "      <th>3</th>\n",
        "      <td> 1016277</td>\n",
        "      <td> 6</td>\n",
        "      <td> 8</td>\n",
        "      <td> 8</td>\n",
        "      <td> 1</td>\n",
        "      <td> 3</td>\n",
        "      <td>  4</td>\n",
        "      <td> 3</td>\n",
        "      <td> 7</td>\n",
        "      <td> 1</td>\n",
        "    </tr>\n",
        "    <tr>\n",
        "      <th>4</th>\n",
        "      <td> 1017023</td>\n",
        "      <td> 4</td>\n",
        "      <td> 1</td>\n",
        "      <td> 1</td>\n",
        "      <td> 3</td>\n",
        "      <td> 2</td>\n",
        "      <td>  1</td>\n",
        "      <td> 3</td>\n",
        "      <td> 1</td>\n",
        "      <td> 1</td>\n",
        "    </tr>\n",
        "  </tbody>\n",
        "</table>\n",
        "</div>"
       ],
       "metadata": {},
       "output_type": "pyout",
       "prompt_number": 29,
       "text": [
        "   id number  clump_thickness  uniformity_of_cell_size  \\\n",
        "0    1000025                5                        1   \n",
        "1    1002945                5                        4   \n",
        "2    1015425                3                        1   \n",
        "3    1016277                6                        8   \n",
        "4    1017023                4                        1   \n",
        "\n",
        "   uniformity_of_cell_shape  marginal_adhesion  epithelial_cell_size  \\\n",
        "0                         1                  1                     2   \n",
        "1                         4                  5                     7   \n",
        "2                         1                  1                     2   \n",
        "3                         8                  1                     3   \n",
        "4                         1                  3                     2   \n",
        "\n",
        "   bare_nuclei  bland_chromatin  normal_nucleoli  mitoses  \n",
        "0            1                3                1        1  \n",
        "1           10                3                2        1  \n",
        "2            2                3                1        1  \n",
        "3            4                3                7        1  \n",
        "4            1                3                1        1  "
       ]
      }
     ],
     "prompt_number": 29
    },
    {
     "cell_type": "markdown",
     "metadata": {},
     "source": [
      "#####Data set is all numerical datatype and contains no null values"
     ]
    },
    {
     "cell_type": "code",
     "collapsed": false,
     "input": [
      "##I set all the parameter as default for now. Just to get my benchmark\n",
      "model = RandomForestRegressor(n_estimators=100, oob_score=True, random_state=42)"
     ],
     "language": "python",
     "metadata": {},
     "outputs": [],
     "prompt_number": 69
    },
    {
     "cell_type": "code",
     "collapsed": false,
     "input": [
      "model.fit(X[numeric_variables], y)"
     ],
     "language": "python",
     "metadata": {},
     "outputs": [
      {
       "metadata": {},
       "output_type": "pyout",
       "prompt_number": 86,
       "text": [
        "RandomForestRegressor(bootstrap=True, compute_importances=None,\n",
        "           criterion='mse', max_depth=None, max_features='sqrt',\n",
        "           max_leaf_nodes=None, min_density=None, min_samples_leaf=1,\n",
        "           min_samples_split=2, n_estimators=1000, n_jobs=-1,\n",
        "           oob_score=True, random_state=42, verbose=0)"
       ]
      }
     ],
     "prompt_number": 86
    },
    {
     "cell_type": "code",
     "collapsed": false,
     "input": [
      "model.oob_score_"
     ],
     "language": "python",
     "metadata": {},
     "outputs": [
      {
       "metadata": {},
       "output_type": "pyout",
       "prompt_number": 112,
       "text": [
        "0.88285702951697809"
       ]
      }
     ],
     "prompt_number": 112
    },
    {
     "cell_type": "code",
     "collapsed": false,
     "input": [
      "y_oob = model.oob_prediction_\n",
      "print \"c-stat: \", roc_auc_score(y, y_oob)"
     ],
     "language": "python",
     "metadata": {},
     "outputs": [
      {
       "output_type": "stream",
       "stream": "stdout",
       "text": [
        "c-stat:  0.992503035025\n"
       ]
      }
     ],
     "prompt_number": 113
    },
    {
     "cell_type": "heading",
     "level": 5,
     "metadata": {},
     "source": [
      "<li>I now have a benchmark. 0.9925 is better but I'm going to try to adjust my parameters for the improvment.\n"
     ]
    },
    {
     "cell_type": "markdown",
     "metadata": {},
     "source": [
      "#####Variable importance measures"
     ]
    },
    {
     "cell_type": "code",
     "collapsed": false,
     "input": [
      "model.feature_importances_"
     ],
     "language": "python",
     "metadata": {},
     "outputs": [
      {
       "metadata": {},
       "output_type": "pyout",
       "prompt_number": 89,
       "text": [
        "array([ 0.01950283,  0.05674925,  0.24709247,  0.18992803,  0.02912329,\n",
        "        0.07731326,  0.18613059,  0.11857543,  0.06870108,  0.00688377])"
       ]
      }
     ],
     "prompt_number": 89
    },
    {
     "cell_type": "code",
     "collapsed": false,
     "input": [
      "feature_importances = pd.Series(model.feature_importances_, index=X.columns)\n",
      "feature_importances.sort()\n",
      "feature_importances.plot(kind=\"barh\", figsize=(7,6));\n",
      "feature_importances"
     ],
     "language": "python",
     "metadata": {},
     "outputs": [
      {
       "metadata": {},
       "output_type": "pyout",
       "prompt_number": 90,
       "text": [
        "mitoses                     0.006884\n",
        "id number                   0.019503\n",
        "marginal_adhesion           0.029123\n",
        "clump_thickness             0.056749\n",
        "normal_nucleoli             0.068701\n",
        "epithelial_cell_size        0.077313\n",
        "bland_chromatin             0.118575\n",
        "bare_nuclei                 0.186131\n",
        "uniformity_of_cell_shape    0.189928\n",
        "uniformity_of_cell_size     0.247092\n",
        "dtype: float64"
       ]
      },
      {
       "metadata": {},
       "output_type": "display_data",
       "png": "[encoded data removed]",
       "text": [
        "<matplotlib.figure.Figure at 0x165b4ba8>"
       ]
      }
     ],
     "prompt_number": 90
    },
    {
     "cell_type": "markdown",
     "metadata": {},
     "source": [
      "##Parameter Test:\n",
      "###Parameters that will make it easier to train your model:\n",
      "<li>n_jobs\n",
      "###Parameters that will make your model better:\n",
      "<li>n_estimators\n",
      "<li>max_features:\n",
      "<li>min_samples_leaf\n"
     ]
    },
    {
     "cell_type": "markdown",
     "metadata": {},
     "source": [
      "#####n_jobs : integer, optional (default=1)\n",
      "#####The number of jobs to run in parallel for both fit and predict. If -1, then the number of jobs is set to the number of cores"
     ]
    },
    {
     "cell_type": "code",
     "collapsed": false,
     "input": [
      "%%timeit\n",
      "model = RandomForestRegressor(1000, oob_score=True, n_jobs=1, random_state=42)\n",
      "model.fit(X, y)"
     ],
     "language": "python",
     "metadata": {},
     "outputs": [
      {
       "output_type": "stream",
       "stream": "stdout",
       "text": [
        "1 loops, best of 3: 1.15 s per loop\n"
       ]
      }
     ],
     "prompt_number": 91
    },
    {
     "cell_type": "code",
     "collapsed": false,
     "input": [
      "%%timeit\n",
      "model = RandomForestRegressor(1000, oob_score=True, n_jobs=-1, random_state=42)\n",
      "model.fit(X, y)"
     ],
     "language": "python",
     "metadata": {},
     "outputs": [
      {
       "output_type": "stream",
       "stream": "stdout",
       "text": [
        "1 loops, best of 3: 817 ms per loop\n"
       ]
      }
     ],
     "prompt_number": 92
    },
    {
     "cell_type": "markdown",
     "metadata": {},
     "source": [
      "#####n_estimators : integer, optional (default=10)\n",
      "#####The number of trees in the forest."
     ]
    },
    {
     "cell_type": "code",
     "collapsed": false,
     "input": [
      "results = []\n",
      "n_estimator_options = [30, 50, 100, 200, 500, 1000, 2000]\n",
      "\n",
      "for trees in n_estimator_options:\n",
      "    model = RandomForestRegressor(trees, oob_score=True, n_jobs=-1, random_state=42)\n",
      "    model.fit(X, y)\n",
      "    print trees, \"trees\"\n",
      "    roc = roc_auc_score(y, model.oob_prediction_)\n",
      "    print \"C-stat: \", roc\n",
      "    results.append(roc)\n",
      "    print \"\"\n",
      "    \n",
      "pd.Series(results, n_estimator_options).plot();"
     ],
     "language": "python",
     "metadata": {},
     "outputs": [
      {
       "output_type": "stream",
       "stream": "stdout",
       "text": [
        "30 trees\n",
        "C-stat:  0.988910833681\n",
        "\n",
        "50"
       ]
      },
      {
       "output_type": "stream",
       "stream": "stdout",
       "text": [
        " trees\n",
        "C-stat:  0.989549547917\n",
        "\n",
        "100"
       ]
      },
      {
       "output_type": "stream",
       "stream": "stdout",
       "text": [
        " trees\n",
        "C-stat:  0.991212016887\n",
        "\n",
        "200"
       ]
      },
      {
       "output_type": "stream",
       "stream": "stdout",
       "text": [
        " trees\n",
        "C-stat:  0.991597057385\n",
        "\n",
        "500"
       ]
      },
      {
       "output_type": "stream",
       "stream": "stdout",
       "text": [
        " trees\n",
        "C-stat:  0.99108065013\n",
        "\n",
        "1000"
       ]
      },
      {
       "output_type": "stream",
       "stream": "stdout",
       "text": [
        " trees\n",
        "C-stat:  0.991420391745\n",
        "\n",
        "2000"
       ]
      },
      {
       "output_type": "stream",
       "stream": "stdout",
       "text": [
        " trees\n",
        "C-stat:  0.991433981409\n",
        "\n"
       ]
      },
      {
       "metadata": {},
       "output_type": "display_data",
       "png": "[encoded data removed]",
       "text": [
        "<matplotlib.figure.Figure at 0x16326400>"
       ]
      }
     ],
     "prompt_number": 93
    },
    {
     "cell_type": "markdown",
     "metadata": {},
     "source": [
      "#####max_features : int, float, string or None, optional (default=\u201dauto\u201d)\n",
      "#####The number of features to consider when looking for the best split"
     ]
    },
    {
     "cell_type": "code",
     "collapsed": false,
     "input": [
      "results = []\n",
      "max_features_options = [\"auto\", None, \"sqrt\", \"log2\", 0.9, 0.2]\n",
      "\n",
      "for max_features in max_features_options:\n",
      "    model = RandomForestRegressor(n_estimators=1000, oob_score=True, n_jobs=-1, random_state=42, max_features=max_features)\n",
      "    model.fit(X, y)\n",
      "    print max_features, \"option\"\n",
      "    roc = roc_auc_score(y, model.oob_prediction_)\n",
      "    print \"C-stat: \", roc\n",
      "    results.append(roc)\n",
      "    print \"\"\n",
      "    \n",
      "pd.Series(results, max_features_options).plot(kind=\"barh\", xlim=(.990,.999));"
     ],
     "language": "python",
     "metadata": {},
     "outputs": [
      {
       "output_type": "stream",
       "stream": "stdout",
       "text": [
        "auto option\n",
        "C-stat:  0.991420391745\n",
        "\n",
        "None"
       ]
      },
      {
       "output_type": "stream",
       "stream": "stdout",
       "text": [
        " option\n",
        "C-stat:  0.991420391745\n",
        "\n",
        "sqrt"
       ]
      },
      {
       "output_type": "stream",
       "stream": "stdout",
       "text": [
        " option\n",
        "C-stat:  0.992503035025\n",
        "\n",
        "log2"
       ]
      },
      {
       "output_type": "stream",
       "stream": "stdout",
       "text": [
        " option\n",
        "C-stat:  0.992503035025\n",
        "\n",
        "0.9"
       ]
      },
      {
       "output_type": "stream",
       "stream": "stdout",
       "text": [
        " option\n",
        "C-stat:  0.991488340068\n",
        "\n",
        "0.2"
       ]
      },
      {
       "output_type": "stream",
       "stream": "stdout",
       "text": [
        " option\n",
        "C-stat:  0.992503035025\n",
        "\n"
       ]
      },
      {
       "metadata": {},
       "output_type": "display_data",
       "png": "[encoded data removed]",
       "text": [
        "<matplotlib.figure.Figure at 0x15abaa90>"
       ]
      }
     ],
     "prompt_number": 94
    },
    {
     "cell_type": "markdown",
     "metadata": {},
     "source": [
      "#####min_samples_split : integer, optional (default=2)\n",
      "#####The minimum number of samples in newly created leaves"
     ]
    },
    {
     "cell_type": "code",
     "collapsed": false,
     "input": [
      "results = []\n",
      "min_samples_leaf_options = [1, 2, 3, 4, 5, 6, 7, 8, 9, 10]\n",
      "\n",
      "for min_samples in min_samples_leaf_options:\n",
      "    model = RandomForestRegressor(n_estimators=1000, \n",
      "                                  oob_score=True, \n",
      "                                  n_jobs=-1, \n",
      "                                  random_state=42, \n",
      "                                  max_features=\"auto\", \n",
      "                                  min_samples_leaf=min_samples)\n",
      "    model.fit(X, y)\n",
      "    print min_samples, \"min samples\"\n",
      "    roc = roc_auc_score(y, model.oob_prediction_)\n",
      "    print \"C-stat: \", roc\n",
      "    results.append(roc)\n",
      "    print \"\"\n",
      "    \n",
      "pd.Series(results, min_samples_leaf_options).plot();"
     ],
     "language": "python",
     "metadata": {},
     "outputs": [
      {
       "output_type": "stream",
       "stream": "stdout",
       "text": [
        "1 min samples\n",
        "C-stat:  0.991420391745\n",
        "\n",
        "2"
       ]
      },
      {
       "output_type": "stream",
       "stream": "stdout",
       "text": [
        " min samples\n",
        "C-stat:  0.991284495099\n",
        "\n",
        "3"
       ]
      },
      {
       "output_type": "stream",
       "stream": "stdout",
       "text": [
        " min samples\n",
        "C-stat:  0.990491764663\n",
        "\n",
        "4"
       ]
      },
      {
       "output_type": "stream",
       "stream": "stdout",
       "text": [
        " min samples\n",
        "C-stat:  0.990894924713\n",
        "\n",
        "5"
       ]
      },
      {
       "output_type": "stream",
       "stream": "stdout",
       "text": [
        " min samples\n",
        "C-stat:  0.990713729185\n",
        "\n",
        "6"
       ]
      },
      {
       "output_type": "stream",
       "stream": "stdout",
       "text": [
        " min samples\n",
        "C-stat:  0.990641250974\n",
        "\n",
        "7"
       ]
      },
      {
       "output_type": "stream",
       "stream": "stdout",
       "text": [
        " min samples\n",
        "C-stat:  0.990441935893\n",
        "\n",
        "8"
       ]
      },
      {
       "output_type": "stream",
       "stream": "stdout",
       "text": [
        " min samples\n",
        "C-stat:  0.990251680589\n",
        "\n",
        "9"
       ]
      },
      {
       "output_type": "stream",
       "stream": "stdout",
       "text": [
        " min samples\n",
        "C-stat:  0.990278859918\n",
        "\n",
        "10"
       ]
      },
      {
       "output_type": "stream",
       "stream": "stdout",
       "text": [
        " min samples\n",
        "C-stat:  0.989943648191\n",
        "\n"
       ]
      },
      {
       "metadata": {},
       "output_type": "display_data",
       "png": "[encoded data removed]",
       "text": [
        "<matplotlib.figure.Figure at 0x17d76be0>"
       ]
      }
     ],
     "prompt_number": 95
    },
    {
     "cell_type": "heading",
     "level": 1,
     "metadata": {},
     "source": [
      "Final Model !!"
     ]
    },
    {
     "cell_type": "code",
     "collapsed": false,
     "input": [
      "model = RandomForestRegressor(n_estimators=1000, \n",
      "                              oob_score=True, \n",
      "                              n_jobs=-1, \n",
      "                              random_state=42, \n",
      "                              max_features=\"sqrt\", \n",
      "                              min_samples_leaf=1)\n",
      "model.fit(X, y)\n",
      "roc = roc_auc_score(y, model.oob_prediction_)\n",
      "print \"C-stat: \", roc"
     ],
     "language": "python",
     "metadata": {},
     "outputs": [
      {
       "output_type": "stream",
       "stream": "stdout",
       "text": [
        "C-stat:  0.992503035025\n"
       ]
      }
     ],
     "prompt_number": 96
    },
    {
     "cell_type": "heading",
     "level": 3,
     "metadata": {},
     "source": [
      "The model is 99.25% accurate and this model will accurately predict the malignantness of any paitent !!"
     ]
    },
    {
     "cell_type": "code",
     "collapsed": false,
     "input": [
      "from sklearn.metrics import roc_curve\n",
      "fpr, tpr, thresholds = roc_curve(y, model.oob_prediction_)"
     ],
     "language": "python",
     "metadata": {},
     "outputs": [],
     "prompt_number": 109
    },
    {
     "cell_type": "code",
     "collapsed": false,
     "input": [
      "plt.figure()\n",
      "plt.plot(fpr, tpr, label='ROC curve (area = %0.2f)' % roc)\n",
      "plt.plot([0, 1], [0, 1], 'k--')\n",
      "plt.xlim([0.0, 1.0])\n",
      "plt.ylim([0.0, 1.05])\n",
      "plt.xlabel('False Positive Value')\n",
      "plt.ylabel('True Positive Value')\n",
      "plt.title('ROC')\n",
      "plt.legend(loc=\"lower right\")\n",
      "plt.show()"
     ],
     "language": "python",
     "metadata": {},
     "outputs": [
      {
       "metadata": {},
       "output_type": "display_data",
       "png": "[encoded data removed]",
       "text": [
        "<matplotlib.figure.Figure at 0x16745ba8>"
       ]
      }
     ],
     "prompt_number": 110
    },
    {
     "cell_type": "code",
     "collapsed": false,
     "input": [],
     "language": "python",
     "metadata": {},
     "outputs": []
    }
   ],
   "metadata": {}
  }
 ]
}